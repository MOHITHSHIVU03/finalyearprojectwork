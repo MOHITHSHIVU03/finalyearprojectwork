{
 "cells": [
  {
   "cell_type": "code",
   "execution_count": 12,
   "metadata": {},
   "outputs": [],
   "source": [
    "#to identify the medications provided to the patient\n",
    "import spacy\n",
    "med7 = spacy.load('en_core_med7_lg')\n",
    "# create distinct colours for labels\n",
    "col_dict = {}\n",
    "seven_colours = ['#CEF6F5 ', '#5DADE2', '#a6e7ff', '#82E0AA', '#CCCCFF  ', '#45B39D', '#D289E3 ']\n",
    "for label, colour in zip(med7.pipe_labels['ner'], seven_colours):\n",
    "    col_dict[label] = colour\n",
    "\n",
    "options = {'ents': med7.pipe_labels['ner'], 'colors':col_dict}"
   ]
  },
  {
   "cell_type": "code",
   "execution_count": 13,
   "metadata": {},
   "outputs": [
    {
     "name": "stdout",
     "output_type": "stream",
     "text": [
      "['RECORD #####', 'Admission Date: [2005]', 'Discharge Date: [2005]', '', 'HISTORY OF PRESENT ILLNESS: [PERSON] is a [65.5] years old male with a history of rheumatic fever in the childhood who was found to have aortic stenosis about [5.5] years ago. He has been followed with serial echos. His most recent study shows critical AS. He admits to a few episodes of throat tightness with activity and a single episode of lightheadedness with vigorous exercise.', '', '', 'PREOPERATIVE MEDICATIONS: Lisinopril 5 mg daily , aspirin 81 mg daily , atorvastatin 80 mg daily , and metformin 850 mg b.i.d.', 'ALLERGIES: Topical reactions to unknown substance not latex. No known drug allergies.', '', 'Attending: [PERSONS]', 'Dictated By: [DOCTORS]', '']\n"
     ]
    }
   ],
   "source": [
    "def san_summarization(filename):\n",
    "    text=''\n",
    "    with open(filename,\"r\") as a_file:\n",
    "        for line in a_file:\n",
    "            stripped_line = line.replace(\"\\n\",\" \")\n",
    "            text+=stripped_line\n",
    "    def content(pattern):\n",
    "    #pattern='PRINCIPAL DIAGNOSIS:(.*?)(:)'\n",
    "        temp_var = re.search(pattern,text).group(0)\n",
    "    #Identifying the last label\n",
    "        result = re.search('[ a-zA-Z]+\\:$',temp_var).group(0)\n",
    "    #splitting each sentence based on full stop\n",
    "        result_1=temp_var.split(\".\")\n",
    "    #creating a list having only principal diagnosis\n",
    "        text_list=[]\n",
    "        for i in result_1:\n",
    "            if i != result:\n",
    "                text_list.append(i)\n",
    "    #text_list\n",
    "        final_result = '.'.join(text_list)\n",
    "        final= final_result+'.'\n",
    "        return final\n",
    "    \n",
    "    import re\n",
    "    p_d=\"\"\n",
    "    h_p_i=\"\"\n",
    "    p_m_h=\"\"\n",
    "    m_o_a=\"\"\n",
    "    allergies=\"\"\n",
    "    p_e_a=\"\"\n",
    "    if 'RECORD' in text:\n",
    "        r=text.split()\n",
    "        text=text.replace(r[1],'#####')\n",
    "    if 'Admission Date:' in text:    \n",
    "        a_d = re.findall(r\"Admission Date: \\[\\d{4}]\", text)\n",
    "    if 'Discharge Date:' in text:    \n",
    "        d_d = re.findall(r\"Discharge Date: \\[\\d{4}]\", text)    \n",
    "    if 'PRINCIPAL DIAGNOSIS ON DISCHARGE:' in text:\n",
    "        p_d = 'PRINCIPAL DIAGNOSIS ON DISCHARGE:(.*?)([a-bA-Z]:)'\n",
    "        p_d = content(p_d)\n",
    "    if 'HISTORY OF PRESENT ILLNESS:' in text:\n",
    "        h_p_i='HISTORY OF PRESENT ILLNESS:(.*?)([a-bA-Z]:)'\n",
    "        h_p_i=content(h_p_i)\n",
    "    if 'PAST MEDICAL HISTORY:' in text:\n",
    "        p_m_h='PAST MEDICAL HISTORY:(.*?)([a-bA-Z]:)'\n",
    "        p_m_h=content(p_m_h)\n",
    "    if 'MEDICATIONS ON ADMISSION:' in text:\n",
    "        m_o_a='MEDICATIONS ON ADMISSION:(.*?)([a-bA-Z]:)'\n",
    "        m_o_a=content(m_o_a)\n",
    "    if 'PREOPERATIVE MEDICATIONS:' in text:\n",
    "        p_m = 'PREOPERATIVE MEDICATIONS:(.*?)([a-bA-Z]:)'\n",
    "        p_m = content(p_m)\n",
    "    if 'ALLERGIES' in text:\n",
    "        allergies='ALLERGIES:(.*?)([a-bA-Z]:)'\n",
    "        allergies=content(allergies)\n",
    "    if 'PHYSICAL EXAMINATION ON ADMISSION:' in text:\n",
    "        p_e_a='PHYSICAL EXAMINATION ON ADMISSION:(.*?)([a-bA-Z]:)'\n",
    "        p_e_a=content(p_e_a)\n",
    "    if 'Attending:'in text:\n",
    "        a=re.findall(r\"Attending: \\[PERSONS]\",text)\n",
    "    if 'Dictated By:' in text:\n",
    "        d=re.findall(r\"Dictated By: \\[DOCTORS]\",text)\n",
    "    def listToString(s):  \n",
    "    # initialize an empty string \n",
    "        str1 = \"\"  \n",
    "    # traverse in the string   \n",
    "        for ele in s:  \n",
    "            str1 += ele   \n",
    "    # return string   \n",
    "        return str1\n",
    "    \n",
    "    res = r[0]+\" \"+r[1]+\"\\n\"+listToString(a_d)+\"\\n\"+listToString(d_d)+\"\\n\"+p_d+\"\\n\"+h_p_i+\"\\n\"+p_m_h+\"\\n\"+m_o_a+\"\\n\"+p_m+\"\\n\"+allergies+\"\\n\"+p_e_a+\"\\n\"+listToString(a[0])+\"\\n\"+listToString(d)+\"\\n\"\n",
    "    res1 = res.split('\\n')\n",
    "    print(res1)\n",
    "    with open('summerization.txt',\"w\") as f:\n",
    "        for lis in res1:\n",
    "            if lis != \" \":\n",
    "                f.write('%s\\n' %lis)\n",
    "    return res1\n",
    "\n",
    "summarized_text=san_summarization(r\"C:\\Users\\Kavya\\Downloads\\op.txt\")\n",
    "while(\"\" in summarized_text) : \n",
    "    summarized_text.remove(\"\")\n"
   ]
  },
  {
   "cell_type": "code",
   "execution_count": 14,
   "metadata": {},
   "outputs": [
    {
     "name": "stdout",
     "output_type": "stream",
     "text": [
      "RECORD #####\n",
      "Admission Date: [2005]\n",
      "Discharge Date: [2005]\n",
      "HISTORY OF PRESENT ILLNESS: [PERSON] is a [65.5] years old male with a history of rheumatic fever in the childhood who was found to have aortic stenosis about [5.5] years ago. He has been followed with serial echos. His most recent study shows critical AS. He admits to a few episodes of throat tightness with activity and a single episode of lightheadedness with vigorous exercise.\n",
      "PREOPERATIVE MEDICATIONS: Lisinopril 5 mg daily , aspirin 81 mg daily , atorvastatin 80 mg daily , and metformin 850 mg b.i.d.\n",
      "ALLERGIES: Topical reactions to unknown substance not latex. No known drug allergies.\n",
      "Attending: [PERSONS]\n",
      "Dictated By: [DOCTORS]\n"
     ]
    }
   ],
   "source": [
    "joined_string = \"\\n\".join(summarized_text)\n"
   ]
  },
  {
   "cell_type": "code",
   "execution_count": 16,
   "metadata": {},
   "outputs": [
    {
     "name": "stdout",
     "output_type": "stream",
     "text": [
      "Loading pages (1/6)\r\n",
      "[>                                                           ] 0%\r",
      "[======>                                                     ] 10%\r",
      "[==============================>                             ] 50%\r",
      "[============================================================] 100%\r",
      "Counting pages (2/6)                                               \r\n",
      "[============================================================] Object 1 of 1\r",
      "Resolving links (4/6)                                                       \r\n",
      "[============================================================] Object 1 of 1\r",
      "Loading headers and footers (5/6)                                           \r\n",
      "Printing pages (6/6)\r\n",
      "[>                                                           ] Preparing\r",
      "[============================================================] Page 1 of 1\r",
      "Done                                                                      \r\n"
     ]
    }
   ],
   "source": [
    "d1=med7(joined_string)\n",
    "import pdfkit\n",
    "config = pdfkit.configuration(wkhtmltopdf =r'C:/Users/Kavya/Desktop/hi/wkhtmltopdf/bin/wkhtmltopdf.exe')\n",
    "html =  spacy.displacy.render(d1, style='ent', page=True,jupyter = False,options=options)\n",
    "with open(\"C:/Users/Kavya/Desktop/summaryan12345678910.html\", 'w+', encoding=\"utf-8\") as fp:\n",
    "    fp.write(html)\n",
    "\n",
    "pdfkit.from_file('C:/Users/Kavya/Desktop/summaryan12345678910.html','summaryan12345678910.pdf',configuration=config )\n",
    "fp.close()"
   ]
  },
  {
   "cell_type": "code",
   "execution_count": 73,
   "metadata": {},
   "outputs": [
    {
     "name": "stdout",
     "output_type": "stream",
     "text": [
      "Requirement already satisfied: fpdf in c:\\users\\kavya\\anaconda3\\envs\\med7\\lib\\site-packages (1.7.2)\n",
      "Note: you may need to restart the kernel to use updated packages.\n"
     ]
    }
   ],
   "source": []
  },
  {
   "cell_type": "code",
   "execution_count": null,
   "metadata": {},
   "outputs": [],
   "source": []
  }
 ],
 "metadata": {
  "kernelspec": {
   "display_name": "med7",
   "language": "python",
   "name": "med7"
  },
  "language_info": {
   "codemirror_mode": {
    "name": "ipython",
    "version": 3
   },
   "file_extension": ".py",
   "mimetype": "text/x-python",
   "name": "python",
   "nbconvert_exporter": "python",
   "pygments_lexer": "ipython3",
   "version": "3.7.9"
  }
 },
 "nbformat": 4,
 "nbformat_minor": 4
}
